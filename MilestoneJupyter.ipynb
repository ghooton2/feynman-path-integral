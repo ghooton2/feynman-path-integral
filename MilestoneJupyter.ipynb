{
 "cells": [
  {
   "cell_type": "code",
   "execution_count": 1,
   "id": "f753c6e6",
   "metadata": {},
   "outputs": [],
   "source": [
    "import numpy as np\n",
    "import vegas\n",
    "import math\n",
    "import matplotlib.pyplot as plt"
   ]
  },
  {
   "cell_type": "code",
   "execution_count": 2,
   "id": "acab209c",
   "metadata": {},
   "outputs": [],
   "source": [
    "def potentialSub(x):\n",
    "    return (1/2)*(x**2)\n",
    "\n",
    "def S_Sum(x,a,m,N):\n",
    "    latSum = 0\n",
    "    latSum += (m/(2*a)) * ((x[0]-x_0)**2) + a*potentialSub(x_0)\n",
    "    for j in range(0,N-2):\n",
    "        latSum += (m/(2*a)) * ((x[j+1]-x[j])**2) + a*potentialSub(x[j])\n",
    "    latSum += (m/(2*a)) * ((x_0-x[-1])**2) + a*potentialSub(x[-1])\n",
    "    return latSum\n",
    "\n",
    "def G_integral(x):\n",
    "    N = 7\n",
    "    T = 4\n",
    "    a = T/N\n",
    "    m=1\n",
    "    exp_power = S_Sum(x,a,m,N)\n",
    "    const = ((m/(2*np.pi*a))**(N/2))\n",
    "    return (const*(math.exp(-exp_power)))\n",
    "\n",
    "def G_integral_norm(x):\n",
    "    N = 7\n",
    "    T = 4\n",
    "    a = T/N\n",
    "    m=1\n",
    "    latSum = 0\n",
    "    for j in range(0,N-1):\n",
    "        latSum += (m/(2*a)) * ((x[j+1]-x[j])**2) + a*potentialSub(x[j])\n",
    "    latSum += (m/(2*a)) * ((x[0]-x[-1])**2) + a*potentialSub(x[-1])\n",
    "\n",
    "    exp_power = latSum\n",
    "    const = ((m/(2*np.pi*a))**(N/2))\n",
    "    return (const*(math.exp(-exp_power)))\n",
    "\n",
    "def actual(x, T):\n",
    "    #E0 = 1/2\n",
    "    xE0top = math.exp((-(x**2))/2)\n",
    "    xE0bottom = (np.pi**(1/4))\n",
    "    xE0 = xE0top/xE0bottom\n",
    "    return xE0**2#*(math.exp(-E0*T)))\n",
    "\n",
    "def compute_integral(N):\n",
    "    limits = [[-5, 5]]*(N-1)\n",
    "    integ = vegas.Integrator(limits)\n",
    "    result = integ(G_integral, nitn=80, neval=20000)\n",
    "    #print(result.summary())\n",
    "    #print('result = %s    Q = %.2f' % (result, result.Q))\n",
    "    #print('actual value is', actual(2, 4))\n",
    "    #print(type(result))\n",
    "    return result.mean\n",
    "\n",
    "def compute_integral_norm(N):\n",
    "    limits = [[-5, 5]]*(N)\n",
    "    integ = vegas.Integrator(limits)\n",
    "    result = integ(G_integral_norm, nitn=80, neval=30000)\n",
    "    return result.mean"
   ]
  },
  {
   "cell_type": "code",
   "execution_count": 3,
   "id": "ba843d4b",
   "metadata": {},
   "outputs": [
    {
     "name": "stdout",
     "output_type": "stream",
     "text": [
      "0.07991453529360351\n",
      "0.079845508523395\n",
      "0.07926897557436574\n",
      "0.07809132559026608\n",
      "0.0767929923272074\n",
      "0.07502980275608817\n",
      "0.07301924322857513\n",
      "0.07067373228401244\n",
      "0.06804527331899772\n",
      "0.06532755951408388\n",
      "0.06227126308746111\n",
      "0.05901063081539961\n",
      "0.05574255837534518\n",
      "0.05247940142462965\n",
      "0.04892112609163483\n",
      "0.04541733748743723\n",
      "0.04213033860469301\n",
      "0.038748213392387876\n",
      "0.035540993626347835\n",
      "0.03241309069111047\n",
      "0.029351389675178932\n",
      "0.026503166808606253\n",
      "0.023817411275450995\n",
      "0.021271348400477924\n",
      "0.018892668951754354\n",
      "0.01674564468431664\n",
      "0.01472792760647595\n",
      "0.012866159679939216\n",
      "0.011235808332534762\n",
      "0.009753062232124552\n",
      "0.008403142169032795\n",
      "0.007211004873782519\n",
      "0.006169989815860488\n",
      "0.005244337121711325\n",
      "0.004432275636987534\n",
      "0.00372668921716833\n",
      "0.003125864244588946\n",
      "0.0026018720833231833\n",
      "0.0021560746781714136\n"
     ]
    },
    {
     "data": {
      "image/png": "[encoded data removed]",
      "text/plain": [
       "<Figure size 432x288 with 1 Axes>"
      ]
     },
     "metadata": {
      "needs_background": "light"
     },
     "output_type": "display_data"
    }
   ],
   "source": [
    "T = 4\n",
    "E0 = 1/2\n",
    "\n",
    "x_values = []\n",
    "act_y = []\n",
    "\n",
    "prop_y = []\n",
    "N = 7\n",
    "a = T/N\n",
    "m=1\n",
    "area = 0\n",
    "\n",
    "for z in range(0,39):\n",
    "    x_0 = z*0.05\n",
    "    x_values += [x_0]\n",
    "    act_y += [actual(x_0, 4)]\n",
    "    temp = compute_integral(N)\n",
    "    print(temp)\n",
    "    prop_y += [temp]\n",
    "\n",
    "\n",
    "area = compute_integral_norm(N)\n",
    "\n",
    "for test in range(0, len(prop_y)):\n",
    "    prop_y[test] = prop_y[test]*(1/area)\n",
    "\n",
    "\n",
    "plt.plot(x_values,act_y, label='Exact')\n",
    "plt.scatter(x_values,prop_y, label='Path Integral')\n",
    "plt.legend()\n",
    "plt.show()\n"
   ]
  },
  {
   "cell_type": "code",
   "execution_count": 12,
   "id": "84cffb8e",
   "metadata": {},
   "outputs": [
    {
     "data": {
      "image/png": "[encoded data removed]",
      "text/plain": [
       "<Figure size 360x216 with 1 Axes>"
      ]
     },
     "metadata": {
      "needs_background": "light"
     },
     "output_type": "display_data"
    }
   ],
   "source": [
    "plt.figure(figsize=(5,3))\n",
    "plt.plot(x_values,act_y, label='Exact', color='green')\n",
    "plt.scatter(x_values,prop_y, label='Path Integral',s=20,color='green')\n",
    "plt.legend()\n",
    "plt.show()"
   ]
  },
  {
   "cell_type": "code",
   "execution_count": 13,
   "id": "bc9d841a",
   "metadata": {},
   "outputs": [
    {
     "data": {
      "text/plain": [
       "20"
      ]
     },
     "execution_count": 13,
     "metadata": {},
     "output_type": "execute_result"
    }
   ],
   "source": [
    "x_values.index(1.)"
   ]
  },
  {
   "cell_type": "code",
   "execution_count": 14,
   "id": "07b46343",
   "metadata": {},
   "outputs": [
    {
     "data": {
      "text/plain": [
       "0.20758393830951458"
      ]
     },
     "execution_count": 14,
     "metadata": {},
     "output_type": "execute_result"
    }
   ],
   "source": [
    "prop_y[20]"
   ]
  },
  {
   "cell_type": "code",
   "execution_count": 16,
   "id": "511b5b76",
   "metadata": {},
   "outputs": [
    {
     "data": {
      "text/plain": [
       "0.20755374871029733"
      ]
     },
     "execution_count": 16,
     "metadata": {},
     "output_type": "execute_result"
    }
   ],
   "source": [
    "act_y[20]"
   ]
  },
  {
   "cell_type": "code",
   "execution_count": 18,
   "id": "457f5654",
   "metadata": {},
   "outputs": [
    {
     "data": {
      "text/plain": [
       "0.014545436738598103"
      ]
     },
     "execution_count": 18,
     "metadata": {},
     "output_type": "execute_result"
    }
   ],
   "source": [
    "(abs(act_y[20]-prop_y[20])/act_y[20])*100"
   ]
  },
  {
   "cell_type": "code",
   "execution_count": null,
   "id": "b6dadff7",
   "metadata": {},
   "outputs": [],
   "source": []
  }
 ],
 "metadata": {
  "kernelspec": {
   "display_name": "Python 3",
   "language": "python",
   "name": "python3"
  },
  "language_info": {
   "codemirror_mode": {
    "name": "ipython",
    "version": 3
   },
   "file_extension": ".py",
   "mimetype": "text/x-python",
   "name": "python",
   "nbconvert_exporter": "python",
   "pygments_lexer": "ipython3",
   "version": "3.8.8"
  }
 },
 "nbformat": 4,
 "nbformat_minor": 5
}
